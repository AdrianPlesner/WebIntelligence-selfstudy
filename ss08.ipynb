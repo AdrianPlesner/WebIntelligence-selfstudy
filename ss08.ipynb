{
 "cells": [
  {
   "cell_type": "markdown",
   "metadata": {},
   "source": [
    "# Self study 8"
   ]
  },
  {
   "cell_type": "markdown",
   "metadata": {},
   "source": [
    "We continue with community detection, now looking at techniques based on matrix factorization. "
   ]
  },
  {
   "cell_type": "code",
   "execution_count": null,
   "metadata": {},
   "outputs": [],
   "source": [
    "import numpy as np\n",
    "import networkx as nx\n",
    "import scipy as sp"
   ]
  },
  {
   "cell_type": "code",
   "execution_count": null,
   "metadata": {},
   "outputs": [],
   "source": [
    "zachary = nx.karate_club_graph()"
   ]
  },
  {
   "cell_type": "markdown",
   "metadata": {},
   "source": [
    "The following functions return the adjacency and Laplacian matrix. It is converted to a dense (standard 2-dimensional array) representation, as required by subsequent SVD operations:"
   ]
  },
  {
   "cell_type": "code",
   "execution_count": null,
   "metadata": {},
   "outputs": [],
   "source": [
    "A=nx.linalg.graphmatrix.adjacency_matrix(zachary).todense()\n",
    "L=nx.linalg.laplacianmatrix.laplacian_matrix(zachary).todense()"
   ]
  },
  {
   "cell_type": "markdown",
   "metadata": {},
   "source": [
    "We obtain the singular value decomposition as follows:"
   ]
  },
  {
   "cell_type": "code",
   "execution_count": null,
   "metadata": {},
   "outputs": [],
   "source": [
    "SVD=np.linalg.svd(A) "
   ]
  },
  {
   "cell_type": "markdown",
   "metadata": {},
   "source": [
    "This returns a list of three matrices/arrays. The middle one represents the diagonal matrix of the SVD as a 1-dimensional array:"
   ]
  },
  {
   "cell_type": "code",
   "execution_count": null,
   "metadata": {},
   "outputs": [],
   "source": [
    "print(SVD[0].shape)\n",
    "print(SVD[1].shape)\n",
    "print(SVD[2].shape)"
   ]
  },
  {
   "cell_type": "markdown",
   "metadata": {},
   "source": [
    "**Task 3:** verify the following:\n",
    "<ul>\n",
    "    <li> all the elements of the diagonal matrix are non-negative (both when decomposing the adjacency or the Laplacian matrix)\n",
    "    </li>\n",
    "    <li>\n",
    "        for the Laplacian matrix: the columns of SVD[0] are eigenvectors of the Laplacian with the corresponding eigenvalues from SVD[1]\n",
    "    </li>\n",
    "    </ul>\n"
   ]
  },
  {
   "cell_type": "markdown",
   "metadata": {},
   "source": [
    "**Task 4:** Plot the networks using different columns from SVD[0] to define x and y coordinates. For example, to use the first two columns, one can use the following (in order to keep us busy, Python and Networkx have decided that the draw function requires for the pos parameter an array; SVD[0][0:2] is a matrix, and won't do -- even if the shape is the same)"
   ]
  },
  {
   "cell_type": "code",
   "execution_count": null,
   "metadata": {},
   "outputs": [],
   "source": [
    "nx.draw(zachary,pos=np.asarray(SVD[0][:,0:2]))"
   ]
  },
  {
   "cell_type": "markdown",
   "metadata": {},
   "source": [
    "Try to interpret the \"meaning\" of the node coefficients in the different columns of SVD[0]. "
   ]
  },
  {
   "cell_type": "markdown",
   "metadata": {},
   "source": [
    "**Task 5:** Construct some synthetic graphs with an inherent community structure, and investigate whether SVD for the adjacency and/or the Laplacian matrix will \"discover\" that structure."
   ]
  },
  {
   "cell_type": "markdown",
   "metadata": {},
   "source": [
    "**Task 6:** Try some bigger graphs. What's the largest size you can handle, so that SVD is computed within a few minutes at most?"
   ]
  }
 ],
 "metadata": {
  "kernelspec": {
   "display_name": "Python 3 (ipykernel)",
   "language": "python",
   "name": "python3"
  },
  "language_info": {
   "codemirror_mode": {
    "name": "ipython",
    "version": 3
   },
   "file_extension": ".py",
   "mimetype": "text/x-python",
   "name": "python",
   "nbconvert_exporter": "python",
   "pygments_lexer": "ipython3",
   "version": "3.8.10"
  }
 },
 "nbformat": 4,
 "nbformat_minor": 2
}
