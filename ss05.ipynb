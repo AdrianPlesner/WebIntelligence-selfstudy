{
 "cells": [
  {
   "cell_type": "markdown",
   "metadata": {},
   "source": [
    "## Self study 5"
   ]
  },
  {
   "cell_type": "code",
   "execution_count": null,
   "metadata": {},
   "outputs": [],
   "source": [
    "import numpy as np\n",
    "import pandas as pd\n",
    "import matplotlib.pyplot as plt"
   ]
  },
  {
   "cell_type": "markdown",
   "metadata": {},
   "source": [
    "In this self study we work with the small movie rating dataset 'MovieLens 100k'.\n",
    "The original source can be found at https://grouplens.org/datasets/movielens/100k/\n",
    "\n",
    "We will only use two data files:\n",
    "\n",
    "u.data: from the README:\n",
    "\n",
    "100000 ratings by 943 users on 1682 items. Each user has rated at least 20 movies.  Users and items are numbered consecutively from 1.  The data is randomly ordered. This is a tab separated list of user id | item id | rating | timestamp. The time stamps are unix seconds since 1/1/1970 UTC  \n",
    "\n",
    "\n",
    "u_comma.item: this is a slightly re-formatted (now comma separated) version of u.item in the original source. From the README:\n",
    "\n",
    "Information about the items (movies); this is a tab separated list of\n",
    "              movie id | movie title | release date | video release date |\n",
    "              IMDb URL | unknown | Action | Adventure | Animation |\n",
    "              Children's | Comedy | Crime | Documentary | Drama | Fantasy |\n",
    "              Film-Noir | Horror | Musical | Mystery | Romance | Sci-Fi |\n",
    "              Thriller | War | Western |\n",
    "              The last 19 fields are the genres, a 1 indicates the movie\n",
    "              is of that genre, a 0 indicates it is not; movies can be in\n",
    "              several genres at once.\n",
    "              The movie ids are the ones used in the u.data data set.\n",
    "\n",
    "\n"
   ]
  },
  {
   "cell_type": "markdown",
   "metadata": {},
   "source": [
    "We can first read the rating data into a numpy array. "
   ]
  },
  {
   "cell_type": "code",
   "execution_count": null,
   "metadata": {},
   "outputs": [],
   "source": [
    "R=np.genfromtxt('u.data',dtype=int)\n",
    "print(R[1:20,:])"
   ]
  },
  {
   "cell_type": "markdown",
   "metadata": {},
   "source": [
    "The movie features go into a Pandas dataframe. Be aware that movie identifiers start at 1, and therefore are 1+ the row index in the dataframe."
   ]
  },
  {
   "cell_type": "code",
   "execution_count": null,
   "metadata": {},
   "outputs": [],
   "source": [
    "Mf=pd.read_csv('u_comma.item',sep=',')\n",
    "\n",
    "display(Mf)"
   ]
  },
  {
   "cell_type": "markdown",
   "metadata": {},
   "source": [
    "It is useful to transform the 'release date' column into the datetime datatype:"
   ]
  },
  {
   "cell_type": "code",
   "execution_count": null,
   "metadata": {},
   "outputs": [],
   "source": [
    "Mf['release date']=pd.to_datetime(Mf['release date'])"
   ]
  },
  {
   "cell_type": "markdown",
   "metadata": {},
   "source": [
    "One can now get the time difference between two release dates (e.g. in days):"
   ]
  },
  {
   "cell_type": "code",
   "execution_count": null,
   "metadata": {},
   "outputs": [],
   "source": [
    "(Mf.iloc[2,2]-Mf.iloc[12,2]).days"
   ]
  },
  {
   "cell_type": "markdown",
   "metadata": {},
   "source": [
    "To get an overview of the ratings of different users, we can collect the number of each user's ratings in one array. Note that here, too, there is a difference of 1 between user identifier, and index in the array:"
   ]
  },
  {
   "cell_type": "code",
   "execution_count": null,
   "metadata": {},
   "outputs": [],
   "source": [
    "Nratings=np.zeros(943)\n",
    "for i in range(943):\n",
    "    Nratings[i]=len(np.where(R[:,0]==i+1)[0])"
   ]
  },
  {
   "cell_type": "markdown",
   "metadata": {},
   "source": [
    "We get an overview of the distribution of the number of ratings:"
   ]
  },
  {
   "cell_type": "code",
   "execution_count": null,
   "metadata": {},
   "outputs": [],
   "source": [
    "print(\"The minimal number of ratings is {}; the maximal number is {}\".format(np.min(Nratings),np.max(Nratings)))\n",
    "print(\"Distribution:\")\n",
    "plt.hist(Nratings,bins=50)\n",
    "plt.xlabel(\"number of ratings\")\n",
    "plt.ylabel(\"number of users\")\n",
    "\n",
    "plt.show()"
   ]
  },
  {
   "cell_type": "markdown",
   "metadata": {},
   "source": [
    "**Task 1:** Select one user with a relatively large number of ratings. Split the data for this user into a training and a test set, and use the traing movies to build a content based prediction model that predicts this user's ratings for the movies in the test set. Evaluate using the RMSE measure. We only have the genre features, and perhaps the release date, as potentially informative features, so we cannot expect a tremendously high accuracy..."
   ]
  }
 ],
 "metadata": {
  "kernelspec": {
   "display_name": "Python 3 (ipykernel)",
   "language": "python",
   "name": "python3"
  },
  "language_info": {
   "codemirror_mode": {
    "name": "ipython",
    "version": 3
   },
   "file_extension": ".py",
   "mimetype": "text/x-python",
   "name": "python",
   "nbconvert_exporter": "python",
   "pygments_lexer": "ipython3",
   "version": "3.8.10"
  }
 },
 "nbformat": 4,
 "nbformat_minor": 2
}
