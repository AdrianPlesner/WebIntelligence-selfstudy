{
 "cells": [
  {
   "cell_type": "code",
   "execution_count": 17,
   "metadata": {
    "collapsed": true
   },
   "outputs": [],
   "source": [
    "import random\n",
    "import numpy as np"
   ]
  },
  {
   "cell_type": "code",
   "execution_count": 19,
   "outputs": [],
   "source": [
    "c1 = [i for i in range(6)]\n",
    "c2 = [i for i in range(6, 11)]\n",
    "c3 = [i for i in range(11, 16)]\n",
    "c=[c1, c2, c3]\n",
    "\n",
    "a = [15/48, 31/48, 48/48]\n",
    "ai = [15/48, 16/48, 17/48]"
   ],
   "metadata": {
    "collapsed": false,
    "pycharm": {
     "name": "#%%\n"
    }
   }
  },
  {
   "cell_type": "code",
   "execution_count": 13,
   "outputs": [],
   "source": [
    "def assign_random_edges():\n",
    "    edges = []\n",
    "    for i in range(24):\n",
    "        r = random.random()\n",
    "        cl = 0 if r < a[0] else 1 if r < a[1] else 2\n",
    "        cl = c[cl]\n",
    "        r = random.randint(0,len(cl) -1)\n",
    "        e1 = cl[r]\n",
    "        r = random.random()\n",
    "        cl = 0 if r < a[0] else 1 if r < a[1] else 2\n",
    "        cl = c[cl]\n",
    "        r = random.randint(0,len(cl)-1)\n",
    "        e2 = cl[r]\n",
    "        edges.append((e1,e2))\n",
    "    return edges"
   ],
   "metadata": {
    "collapsed": false,
    "pycharm": {
     "name": "#%%\n"
    }
   }
  },
  {
   "cell_type": "markdown",
   "source": [
    "##### A: Genereate random nodes"
   ],
   "metadata": {
    "collapsed": false,
    "pycharm": {
     "name": "#%% md\n"
    }
   }
  },
  {
   "cell_type": "code",
   "source": [
    "assign_random_edges()"
   ],
   "metadata": {
    "collapsed": false,
    "pycharm": {
     "name": "#%%\n"
    }
   },
   "execution_count": 14,
   "outputs": [
    {
     "data": {
      "text/plain": "[(9, 12),\n (13, 8),\n (11, 3),\n (10, 14),\n (14, 14),\n (0, 15),\n (13, 8),\n (7, 15),\n (0, 6),\n (3, 6),\n (5, 9),\n (10, 14),\n (6, 11),\n (11, 11),\n (6, 15),\n (3, 4),\n (3, 5),\n (15, 3),\n (1, 6),\n (11, 11),\n (11, 9),\n (3, 3),\n (15, 6),\n (4, 1)]"
     },
     "execution_count": 14,
     "metadata": {},
     "output_type": "execute_result"
    }
   ]
  },
  {
   "cell_type": "markdown",
   "source": [
    "#### B: Compare intercluster edges with expected edges\n"
   ],
   "metadata": {
    "collapsed": false,
    "pycharm": {
     "name": "#%% md\n"
    }
   }
  },
  {
   "cell_type": "code",
   "execution_count": 15,
   "outputs": [],
   "source": [
    "def get_clusters(e):\n",
    "    n1 = e[0]\n",
    "    n2 = e[1]\n",
    "    r1 = 0 if n1 in c[0] else 1 if n1 in c[1] else 2\n",
    "    r2 = 0 if n2 in c[0] else 1 if n2 in c[1] else 2\n",
    "    return r1, r2"
   ],
   "metadata": {
    "collapsed": false,
    "pycharm": {
     "name": "#%%\n"
    }
   }
  },
  {
   "cell_type": "code",
   "execution_count": 32,
   "outputs": [],
   "source": [
    "def get_modualrity_error(edges=None, comp=None):\n",
    "    if edges is None:\n",
    "        edges = assign_random_edges()\n",
    "    if comp is None:\n",
    "        comp = [x ** 2 for x in ai]\n",
    "    intercluster = [0,0,0]\n",
    "    for e in edges:\n",
    "        n1, n2 = get_clusters(e)\n",
    "        if n1 == n2:\n",
    "            intercluster[n1] += 1\n",
    "    intercluster = [x/24 for x in intercluster]\n",
    "    error = np.sum(np.asarray(intercluster) - np.asarray(comp))\n",
    "    return error"
   ],
   "metadata": {
    "collapsed": false,
    "pycharm": {
     "name": "#%%\n"
    }
   }
  },
  {
   "cell_type": "code",
   "execution_count": 25,
   "outputs": [
    {
     "name": "stdout",
     "output_type": "stream",
     "text": [
      "-0.03836805555555558\n",
      "-0.007534722222222235\n",
      "-0.00586805555555557\n"
     ]
    }
   ],
   "source": [
    "r10 = [get_modualrity_error() for _ in range(10)]\n",
    "r50 = [get_modualrity_error() for _ in range(50)]\n",
    "r100 = [get_modualrity_error() for _ in range(100)]\n",
    "print(np.average(r10))\n",
    "print(np.average(r50))\n",
    "print(np.average(r100))\n",
    "\n"
   ],
   "metadata": {
    "collapsed": false,
    "pycharm": {
     "name": "#%%\n"
    }
   }
  },
  {
   "cell_type": "code",
   "execution_count": 26,
   "outputs": [
    {
     "name": "stdout",
     "output_type": "stream",
     "text": [
      "0.0005111111111110953\n"
     ]
    }
   ],
   "source": [
    "r10000 = [get_modualrity_error() for _ in range(10000)]\n",
    "print(np.average(r10000))"
   ],
   "metadata": {
    "collapsed": false,
    "pycharm": {
     "name": "#%%\n"
    }
   }
  },
  {
   "cell_type": "markdown",
   "source": [
    "#### C: Compare with modularity of the original graph"
   ],
   "metadata": {
    "collapsed": false,
    "pycharm": {
     "name": "#%% md\n"
    }
   }
  },
  {
   "cell_type": "code",
   "execution_count": 34,
   "outputs": [
    {
     "name": "stdout",
     "output_type": "stream",
     "text": [
      "0.4991319444444445\n"
     ]
    }
   ],
   "source": [
    "oedges = [(0,1),(2,1),(3,1),(2,3),(4,1),(5,1),(6,7),(6,8),(6,9),(7,9),(7,10),(8,9),(9,10),(11,12),(11,14),(12,13),(12,14),(12,15),(13,15),(14,15),(4,6),(8,12),(4,12),(5,11)]\n",
    "omodularity = get_modualrity_error(oedges)\n",
    "print(omodularity)\n",
    "ointercluster= [0,0,0]\n",
    "for e in oedges:\n",
    "    n1, n2 = get_clusters(e)\n",
    "    if n1 == n2:\n",
    "        ointercluster[n1] += 1\n",
    "ointercluster = [x/24 for x in ointercluster]"
   ],
   "metadata": {
    "collapsed": false,
    "pycharm": {
     "name": "#%%\n"
    }
   }
  },
  {
   "cell_type": "code",
   "execution_count": 35,
   "outputs": [
    {
     "name": "stdout",
     "output_type": "stream",
     "text": [
      "-0.5208333333333333\n",
      "-0.5233333333333333\n",
      "-0.4895833333333334\n"
     ]
    }
   ],
   "source": [
    "r10 = [get_modualrity_error(comp=ointercluster) for _ in range(10)]\n",
    "r50 = [get_modualrity_error(comp=ointercluster) for _ in range(50)]\n",
    "r100 = [get_modualrity_error(comp=ointercluster) for _ in range(100)]\n",
    "print(np.average(r10))\n",
    "print(np.average(r50))\n",
    "print(np.average(r100))\n"
   ],
   "metadata": {
    "collapsed": false,
    "pycharm": {
     "name": "#%%\n"
    }
   }
  },
  {
   "cell_type": "markdown",
   "source": [
    "Den er ikke engang tæt på lol\n",
    "\n"
   ],
   "metadata": {
    "collapsed": false,
    "pycharm": {
     "name": "#%% md\n"
    }
   }
  }
 ],
 "metadata": {
  "kernelspec": {
   "display_name": "Python 3",
   "language": "python",
   "name": "python3"
  },
  "language_info": {
   "codemirror_mode": {
    "name": "ipython",
    "version": 2
   },
   "file_extension": ".py",
   "mimetype": "text/x-python",
   "name": "python",
   "nbconvert_exporter": "python",
   "pygments_lexer": "ipython2",
   "version": "2.7.6"
  }
 },
 "nbformat": 4,
 "nbformat_minor": 0
}