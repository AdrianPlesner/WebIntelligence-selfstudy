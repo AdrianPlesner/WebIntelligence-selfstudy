{
 "cells": [
  {
   "cell_type": "markdown",
   "metadata": {
    "tags": []
   },
   "source": [
    "# Self study 1\n",
    "\n",
    "Self studies should be solved individually, or in small groups of 2-3 students. There is no hand-in of your solutins to the self studies. However, you can bring your solutions to the exam, and use them as the basis for your answers to the exam questions.\n",
    "\n",
    "In this self-study we construct a simple crawler. Concretely, you should: \n",
    "\n",
    "* Select about 5 seed urls, e.g. homepages of universities, e-commerce sites, or similar\n",
    "\n",
    "* Start crawling from these seeds. Define a strategy for selecting the next url to be crawled. What kind of prioritization (if any) is embodied in your strategy?\n",
    "\n",
    "* Make sure you obey the robots.txt file, and make ensure that at least 2 seconds elapse between requests to the same host\n",
    "\n",
    "* Stop when you have crawled approx. 1000 pages\n",
    "\n",
    "* For each crawled page, save the url and the text string contained in the 'title' element of the document (we do not want to handle the full text of the pages at this point).\n",
    "\n",
    "* You can repeat this several times, using different seed sets and/or prioritization strategies.\n",
    "\n",
    "The following two self studies will extend the work that you do in this self study."
   ]
  },
  {
   "cell_type": "markdown",
   "metadata": {},
   "source": [
    "The following introduces a few helpful libraries and essential functions. You can use these methods, or use other tools that you are already familiar with and/or prefer to work with. \n",
    "\n",
    "A simple crawler implementation can be based on the 'requests' package [https://requests.readthedocs.io/en/master/](https://requests.readthedocs.io/en/master/) for retrieving html documents, and the BeautifulSoup parser https://www.crummy.com/software/BeautifulSoup/bs4/doc/ for parsing the html."
   ]
  },
  {
   "cell_type": "code",
   "execution_count": 8,
   "metadata": {},
   "outputs": [
    {
     "name": "stderr",
     "output_type": "stream",
     "text": [
      "[nltk_data] Downloading package punkt to\n",
      "[nltk_data]     C:\\Users\\Bruger\\AppData\\Roaming\\nltk_data...\n",
      "[nltk_data]   Package punkt is already up-to-date!\n"
     ]
    },
    {
     "data": {
      "text/plain": [
       "True"
      ]
     },
     "execution_count": 8,
     "metadata": {},
     "output_type": "execute_result"
    }
   ],
   "source": [
    "import requests\n",
    "from bs4 import BeautifulSoup\n",
    "from time import sleep\n",
    "from urllib.robotparser import RobotFileParser\n",
    "import random\n",
    "import nltk\n",
    "nltk.download('punkt')\n",
    "from queue import Queue"
   ]
  },
  {
   "cell_type": "markdown",
   "metadata": {},
   "source": [
    "Let's start crawling at https://www.aau.dk/ . We first retrieve the robots.txt file and check whether we are allowed to crawl the top-level url:"
   ]
  },
  {
   "cell_type": "code",
   "execution_count": null,
   "metadata": {},
   "outputs": [],
   "source": [
    "rp=RobotFileParser()\n",
    "rp.set_url(\"https://www.aau.dk/\")\n",
    "rp.read()\n",
    "if rp.can_fetch(\"*\", \"https://www.aau.dk\"):\n",
    "    r = requests.get(\"https://www.aau.dk\")\n",
    "    r_parse = BeautifulSoup(r.text, 'html.parser')\n",
    "    print(r_parse.get_text())"
   ]
  },
  {
   "cell_type": "code",
   "execution_count": null,
   "metadata": {},
   "outputs": [],
   "source": [
    "seed = [\"https://iamafoodblog.com/\", \"https://pinchofyum.com/\", \"https://www.loveandlemons.com/\",\"https://imdb.com/\", \"https://gamegrumps.com/\"]\n",
    "frontier = Queue()\n",
    "for s in seed:\n",
    "    frontier.put(s)\n",
    "ps=nltk.PorterStemmer()\n",
    "visited = []\n",
    "results = []\n",
    "while len(results) < 500:\n",
    "    rp=RobotFileParser()\n",
    "    p = frontier.pop(random.randint(0,len(frontier)-1))\n",
    "    rp.set_url(p)\n",
    "    try:\n",
    "        rp.read()\n",
    "    \n",
    "        if rp.can_fetch(\"*\",p):\n",
    "            r=requests.get(p)\n",
    "            visited.append(p)\n",
    "            r_parse = BeautifulSoup(r.text, 'html.parser')\n",
    "            title = r_parse.find('title')\n",
    "            if title is not None:\n",
    "                text = r_parse.get_text()\n",
    "                tokens=nltk.word_tokenize(title)\n",
    "                toks = []\n",
    "                for token in tokens:\n",
    "                    toks.append(ps.stem(token))\n",
    "                slup = {'url': p, 'title': title.string, 'tokens': toks}\n",
    "                results.append(slup)\n",
    "                for a in r_parse.find_all('a'):\n",
    "                    if 'href' in a.attrs:\n",
    "                        l = a['href']\n",
    "                        if l.startswith('https') and l not in frontier and l not in visited:\n",
    "                            frontier.append(l)\n",
    "    except:\n",
    "        print('woops!')\n",
    "print(results)\n",
    "        \n",
    "        "
   ]
  },
  {
   "cell_type": "code",
   "execution_count": null,
   "metadata": {},
   "outputs": [],
   "source": []
  },
  {
   "cell_type": "markdown",
   "metadata": {},
   "source": [
    "We can now get the html using the requests package, which returns a response object:"
   ]
  },
  {
   "cell_type": "code",
   "execution_count": 6,
   "metadata": {},
   "outputs": [
    {
     "name": "stdout",
     "output_type": "stream",
     "text": [
      "500\n"
     ]
    }
   ],
   "source": [
    "print(len(results))\n"
   ]
  },
  {
   "cell_type": "code",
   "execution_count": 7,
   "metadata": {},
   "outputs": [],
   "source": [
    "import json\n"
   ]
  },
  {
   "cell_type": "markdown",
   "metadata": {},
   "source": [
    "A basic view of the contents is accessible via the content attribute:"
   ]
  },
  {
   "cell_type": "code",
   "execution_count": null,
   "metadata": {},
   "outputs": [],
   "source": [
    "ob = json.dumps(results, indent=4)\n",
    "print(ob)"
   ]
  },
  {
   "cell_type": "markdown",
   "metadata": {},
   "source": [
    "For serious parsing, we can use the BeautifulSoup html parser:"
   ]
  },
  {
   "cell_type": "code",
   "execution_count": 10,
   "metadata": {},
   "outputs": [],
   "source": [
    "with open(\"crawled.json\", \"w\") as outfile:\n",
    "    json.dump(results, outfile)"
   ]
  },
  {
   "cell_type": "code",
   "execution_count": 32,
   "metadata": {},
   "outputs": [
    {
     "name": "stdout",
     "output_type": "stream",
     "text": [
      "717\n"
     ]
    }
   ],
   "source": [
    "print(len(results))\n"
   ]
  },
  {
   "cell_type": "markdown",
   "metadata": {},
   "source": [
    "We can get the title:"
   ]
  },
  {
   "cell_type": "code",
   "execution_count": 6,
   "metadata": {},
   "outputs": [
    {
     "name": "stdout",
     "output_type": "stream",
     "text": [
      "<title>AAU - Viden for verden</title>\n",
      "AAU - Viden for verden\n"
     ]
    }
   ],
   "source": [
    "print(r_parse.find('title'))\n",
    "print(r_parse.find('title').string)"
   ]
  },
  {
   "cell_type": "markdown",
   "metadata": {},
   "source": [
    "Importantly, we can get all the links on the page. The following also illustrates the sleep() function to implement time delays (the following will take a while to complete; use the \"interrupt kernel\" button to terminate early):"
   ]
  },
  {
   "cell_type": "code",
   "execution_count": 7,
   "metadata": {},
   "outputs": [
    {
     "name": "stdout",
     "output_type": "stream",
     "text": [
      "https://www.aau.dk/nyheder\n",
      "https://www.aau.dk/arrangementer\n",
      "https://www.aau.dk/kontakt\n",
      "https://www.aau.dk/om-aau/organisation/campus\n",
      "https://www.aau.dk/pressen\n",
      "https://www.alumni.aau.dk/\n",
      "#\n",
      "https://www.aau.dk/nyheder\n",
      "https://www.aau.dk/arrangementer\n",
      "https://www.aau.dk/kontakt\n",
      "https://www.aau.dk/om-aau/organisation/campus\n",
      "https://www.aau.dk/pressen\n",
      "https://www.alumni.aau.dk/\n",
      "https://www.aau.dk/uddannelser/\n",
      "https://www.aau.dk/forskning/\n",
      "https://www.aau.dk/samarbejde/\n",
      "https://www.aau.dk/om-aau/\n",
      "https://www.stillinger.aau.dk/\n",
      "https://www.intern.aau.dk/\n",
      "https://www.search.aau.dk/?locale=da\n",
      "https://www.en.aau.dk/\n",
      "https://www.search.aau.dk/?locale=da\n",
      "https://www.en.aau.dk/\n",
      "https://www.aau.dk\n",
      "#\n",
      "https://www.aau.dk/uddannelser/\n",
      "https://www.aau.dk/uddannelser/bachelor\n",
      "https://www.aau.dk/uddannelser/kandidat\n",
      "https://www.aau.dk/uddannelser/sidefag-tilvalgsfag\n",
      "https://www.aau.dk/uddannelser/bliv-gymnasielaerer\n",
      "https://www.evu.aau.dk\n",
      "https://www.aau.dk/uddannelser/optagelse/bachelor\n",
      "http://www.adgangstjekker.aau.dk\n",
      "https://www.aau.dk/uddannelser/optagelse/kandidat/\n",
      "https://www.aau.dk/uddannelser/optagelse/indskrivning-gaestestuderende-studieskift\n",
      "https://www.aau.dk/uddannelser/optagelse/adgangskursus\n",
      "https://www.aau.dk/uddannelser/optagelse/Optagelsesvejledning/\n",
      "https://www.aau.dk/uddannelser/moed-aau\n",
      "https://www.aau.dk/uddannelser/gruppe-og-projektarbejde\n",
      "https://www.aau.dk/uddannelser/her-kan-du-studere-paa-aau/aalborg\n",
      "https://www.aau.dk/uddannelser/her-kan-du-studere-paa-aau/esbjerg\n",
      "https://www.aau.dk/uddannelser/her-kan-du-studere-paa-aau/koebenhavn\n",
      "https://www.aau.dk/uddannelser/optagelse/\n",
      "https://www.aau.dk/uddannelser/studievejledning/\n",
      "https://www.aau.dk/uddannelser/studievejledning/studiets-vejledere\n",
      "https://www.aau.dk/uddannelser/su/sps/stoettemuligheder/\n",
      "#\n",
      "https://www.aau.dk/forskning/\n",
      "https://vbn.aau.dk/da/publications/search.html\n",
      "https://vbn.aau.dk/da/projects/search.html\n",
      "https://vbn.aau.dk/da/persons/search.html?current=true\n",
      "https://vbn.aau.dk/da/clippings/\n",
      "https://www.aau.dk/forskning/forskningsenheder/institutter\n",
      "https://www.aau.dk/forskning/phd/phd-skoler\n",
      "https://vbn.aau.dk/da/organisations/?format=&type=%2Fdk%2Fatira%2Fpure%2Forganisation%2Forganisationtypes%2Forganisation%2Fknowledgecenter&nofollow=true\n",
      "https://www.strategi.aau.dk/Forskning\n",
      "https://www.aau.dk/forskning/open-access\n",
      "https://www.aau.dk/forskning/ranking\n",
      "https://www.stillinger.aau.dk/videnskabelige-stillinger/\n",
      "https://www.aau.dk/forskning/phd/\n",
      "https://www.aau.dk/forskning/phd/phd-skoler/\n",
      "https://www.stillinger.aau.dk/phd-stillinger/\n",
      "https://www.aau.dk/forskning/phd/soeg-phd/\n",
      "https://www.aau.dk/samarbejde/virksomheder/samarbejde-forskere/erhvervsphd\n",
      "#\n",
      "https://www.aau.dk/samarbejde/\n",
      "https://www.aau.dk/samarbejde/guide-samarbejde\n",
      "https://www.aau.dk/samarbejde/virksomheder/efter-videreuddannelse\n",
      "https://www.aau.dk/samarbejde/virksomheder/Erhvervsklynger\n",
      "https://www.aau.dk/samarbejde/virksomheder/find-medarbejdere\n",
      "https://www.aau.dk/samarbejde/virksomheder/profiler-virksomhed\n",
      "https://www.aau.dk/samarbejde/virksomheder/samarbejde-forskere\n",
      "https://www.aau.dk/samarbejde/virksomheder/samarbejde-studerende\n",
      "https://www.aau.dk/samarbejde/virksomheder/laboratorier-udstyr\n",
      "https://www.aau.dk/samarbejde/virksomheder/udnyt-opfindelser\n",
      "https://www.aau.dk/samarbejde/myndigheder-sektorer\n",
      "https://www.aau.dk/samarbejde/tilbud-til-gymnasier\n",
      "https://www.aau.dk/samarbejde/folkeskolen\n",
      "https://www.alumni.aau.dk\n",
      "https://www.studiestart.aau.dk/\n",
      "https://www.its.aau.dk/app/aau-start/\n",
      "https://clients.mapsindoors.com/aau/venues\n",
      "https://www.studiepraktik.aau.dk\n",
      "https://www.studiepraktik.aau.dk/\n",
      "/uddannelser/bachelor/\n",
      "/uddannelser/kandidat/\n",
      "/ingenioeruddannelser/\n",
      "/uddannelser/efteruddannelse/\n",
      "https://www.aau.dk/coronavirus\n",
      "/om-aau/organisation/bestyrelse/AAU+udpegningsorgan/aau-soeger-nyt-medlem-til-aau-udpegningsorgan/\n",
      "/pressen/\n",
      "https://vbn.aau.dk/da/persons/\n",
      "https://www.nyheder.aau.dk/2021/nyhed/studieoptag-paa-aau--sundhed--baeredygtighed-og-de--sikre--valg-er-populaere.cid516642\n",
      "https://www.nyheder.aau.dk/2021/nyhed/matematisk-haandsraekning-til-kommende-aau-studerende.cid515972\n",
      "https://www.nyheder.aau.dk/2021/nyhed/aalborg-universitet-fastholder-et-flot-ansoegertal.cid513434\n",
      "https://www.nyheder.aau.dk/\n",
      "/arrangementer/vis/workshop--pain-profiling-of-patients-with-chronic-pain.cid520472\n",
      "/arrangementer/vis/doctoral-defence-by-kristian-kjaer-petersen.cid520457\n",
      "/arrangementer/vis/tiltraedelsesforelaesning-v.-harry-kim.cid519525\n",
      "/arrangementer/\n",
      "https://www.stillinger.aau.dk/\n",
      "https://www.stillinger.aau.dk/\n",
      "mailto:aau@aau.dk\n",
      "https://okonomi.aau.dk\n",
      "https://www.facebook.com/AalborgUniversitet/\n",
      "https://www.linkedin.com/school/aalborg-universitet/\n",
      "https://www.instagram.com/aaustudieliv/\n",
      "https://www.snapchat.com/add/aauuni\n",
      "/om-cookies/\n",
      "/kontakt/\n",
      "https://www.aau.dk/om-aau\n",
      "/uddannelser/\n",
      "/forskning/\n",
      "/samarbejde/\n",
      "https://www.aau.dk/om-aau\n",
      "https://www.en.aau.dk/cooperation/international-cooperation/eciu\n",
      "mailto:aau@aau.dk\n",
      "https://www.okonomi.aau.dk\n",
      "https://www.aau.dk/om-websitet\n",
      "https://www.aau.dk/om-cookies\n",
      "https://www.adgangforalle.dk/\n",
      "https://www.aau.dk/om-aau/organisation\n",
      "https://www.aau.dk/om-aau/aalborg-modellen-problembaseret-laering\n",
      "https://www.aau.dk/om-aau/strategi-rammekontrakt\n",
      "https://www.aau.dk/om-aau/internationalt-samarbejde\n",
      "https://www.aau.dk/om-aau/historie-priser\n",
      "https://www.kvalitetssikring.aau.dk\n",
      "https://www.aau.dk/om-aau/aau-i-tal/\n",
      "https://www.facebook.com/AalborgUniversitet\n",
      "https://www.linkedin.com/company/aalborg-university\n",
      "https://www.instagram.com/aaustudieliv\n",
      "https://www.snapchat.com/add/aauuni\n",
      "https://www.youtube.com/aalborguniversitet\n"
     ]
    }
   ],
   "source": [
    "for a in r_parse.find_all('a'):\n",
    "    sleep(1)\n",
    "    print(a['href'])"
   ]
  },
  {
   "cell_type": "code",
   "execution_count": null,
   "metadata": {},
   "outputs": [],
   "source": []
  }
 ],
 "metadata": {
  "kernelspec": {
   "display_name": "Python 3 (ipykernel)",
   "language": "python",
   "name": "python3"
  },
  "language_info": {
   "codemirror_mode": {
    "name": "ipython",
    "version": 3
   },
   "file_extension": ".py",
   "mimetype": "text/x-python",
   "name": "python",
   "nbconvert_exporter": "python",
   "pygments_lexer": "ipython3",
   "version": "3.9.7"
  }
 },
 "nbformat": 4,
 "nbformat_minor": 4
}