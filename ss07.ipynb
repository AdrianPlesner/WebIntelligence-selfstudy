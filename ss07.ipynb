{
 "cells": [
  {
   "cell_type": "markdown",
   "metadata": {},
   "source": [
    "# Self study 7"
   ]
  },
  {
   "cell_type": "markdown",
   "metadata": {},
   "source": [
    "In this self study we start to investigate some community detection (graph clustering) techniques. As toy datasets we use the Lazega Law and the Zachary Karate club networks. Some of the following code was already used in self study 4."
   ]
  },
  {
   "cell_type": "code",
   "execution_count": null,
   "metadata": {},
   "outputs": [],
   "source": [
    "import numpy as np\n",
    "import networkx as nx\n",
    "import scipy as sp\n",
    "from networkx.algorithms.community import kernighan_lin_bisection\n",
    "from networkx.algorithms.community.centrality import girvan_newman"
   ]
  },
  {
   "cell_type": "code",
   "execution_count": null,
   "metadata": {},
   "outputs": [],
   "source": [
    "def get_att_array(G,att_name):\n",
    "    ret_array=np.zeros(nx.number_of_nodes(G))\n",
    "    for i,n in enumerate(G.nodes()):\n",
    "        ret_array[i]=G.nodes[n][att_name]\n",
    "    return(ret_array)"
   ]
  },
  {
   "cell_type": "markdown",
   "metadata": {},
   "source": [
    "Remember that the edges in the Lazega network represent a directed 'friendship' relation, and that nodes have attributes Practice, Age, Seniority, Office, Gender and Status. For the purpose of this self study we turn the directed graph into an undirected one.\n",
    "\n",
    "In the following you can see that already the 'Kamada Kawai' layout algorithm separates the nodes somewhat according tho the office location:"
   ]
  },
  {
   "cell_type": "code",
   "execution_count": null,
   "metadata": {},
   "outputs": [],
   "source": [
    "lazega=nx.readwrite.graphml.read_graphml('lazega.gml')\n",
    "lazega=lazega.to_undirected()\n",
    "nx.draw_kamada_kawai(lazega,with_labels=True,node_color=get_att_array(lazega,'Office'))"
   ]
  },
  {
   "cell_type": "markdown",
   "metadata": {},
   "source": [
    "We next load the Zachary network. This is a built-in of networkx:"
   ]
  },
  {
   "cell_type": "code",
   "execution_count": null,
   "metadata": {},
   "outputs": [],
   "source": [
    "zachary = nx.karate_club_graph()"
   ]
  },
  {
   "cell_type": "markdown",
   "metadata": {},
   "source": [
    "This does not contain the information on the two \"ground truth\" communities. This is here manually constructed:"
   ]
  },
  {
   "cell_type": "code",
   "execution_count": null,
   "metadata": {},
   "outputs": [],
   "source": [
    "zachary_gt=np.array([0,0,0,0,0,0,0,0,1,1,0,0,0,0,1,1,0,0,1,0,1,0,1,1,1,1,1,1,1,1,1,1,1,1])"
   ]
  },
  {
   "cell_type": "markdown",
   "metadata": {},
   "source": [
    "Using a generic drawing method, we obtain a layout that separates the two ground truth communities quite well:"
   ]
  },
  {
   "cell_type": "code",
   "execution_count": null,
   "metadata": {},
   "outputs": [],
   "source": [
    "nx.draw(zachary,with_labels=True,node_color=zachary_gt)"
   ]
  },
  {
   "cell_type": "markdown",
   "metadata": {},
   "source": [
    "**Task 1:** Use the networkx implementations of the Kernighan-Lin and Newman-Girvan algorithms to divide the Lazega and Zachary networks into 2,3,4 communities. Compare the communities returned by the algorithms with ground truth clusters in the network: the ground truth communities in Zachary, and the clusters defined by node attributes Office, Gender, Practice, Status in Lazega."
   ]
  },
  {
   "cell_type": "markdown",
   "metadata": {},
   "source": [
    "**Task 2:** (a bit more involved; consider this as optional): construct a networkx graph out of the web-pages you have crawled in self study 1: each crawled page is a node, and edges are defined by hyperlinks. These are directed edges, but we can also make them undirected for community detection. Apply the Kernighan-Lin and Newman-Girvan algorithms to your crawled web data. Do you see a correspondence between the communities that are returned, and what you know about the pages (urls, content, ...)? "
   ]
  }
 ],
 "metadata": {
  "kernelspec": {
   "display_name": "Python 3 (ipykernel)",
   "language": "python",
   "name": "python3"
  },
  "language_info": {
   "codemirror_mode": {
    "name": "ipython",
    "version": 3
   },
   "file_extension": ".py",
   "mimetype": "text/x-python",
   "name": "python",
   "nbconvert_exporter": "python",
   "pygments_lexer": "ipython3",
   "version": "3.8.10"
  }
 },
 "nbformat": 4,
 "nbformat_minor": 2
}
