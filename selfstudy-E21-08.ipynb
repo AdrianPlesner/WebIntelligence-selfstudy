{
 "cells": [
  {
   "cell_type": "markdown",
   "metadata": {},
   "source": [
    "# Self study 8"
   ]
  },
  {
   "cell_type": "markdown",
   "metadata": {},
   "source": [
    "We continue with community detection, now looking at techniques based on matrix factorization. "
   ]
  },
  {
   "cell_type": "code",
   "execution_count": 51,
   "metadata": {},
   "outputs": [],
   "source": [
    "import numpy as np\n",
    "import networkx as nx\n",
    "import scipy as sp"
   ]
  },
  {
   "cell_type": "code",
   "execution_count": 52,
   "metadata": {},
   "outputs": [],
   "source": [
    "zachary = nx.karate_club_graph()"
   ]
  },
  {
   "cell_type": "markdown",
   "metadata": {},
   "source": [
    "The following functions return the adjacency and Laplacian matrix. It is converted to a dense (standard 2-dimensional array) representation, as required by subsequent SVD operations:"
   ]
  },
  {
   "cell_type": "code",
   "execution_count": 53,
   "metadata": {},
   "outputs": [],
   "source": [
    "A=nx.linalg.graphmatrix.adjacency_matrix(zachary).todense()\n",
    "L=nx.linalg.laplacianmatrix.laplacian_matrix(zachary).todense()"
   ]
  },
  {
   "cell_type": "markdown",
   "metadata": {},
   "source": [
    "We obtain the singular value decomposition as follows:"
   ]
  },
  {
   "cell_type": "code",
   "execution_count": 54,
   "metadata": {},
   "outputs": [],
   "source": [
    "SVD=np.linalg.svd(A) "
   ]
  },
  {
   "cell_type": "markdown",
   "metadata": {},
   "source": [
    "This returns a list of three matrices/arrays. The middle one represents the diagonal matrix of the SVD as a 1-dimensional array:"
   ]
  },
  {
   "cell_type": "code",
   "execution_count": 5,
   "metadata": {},
   "outputs": [
    {
     "name": "stdout",
     "output_type": "stream",
     "text": [
      "(34, 34)\n",
      "(34,)\n",
      "(34, 34)\n"
     ]
    }
   ],
   "source": [
    "print(SVD[0].shape)\n",
    "print(SVD[1].shape)\n",
    "print(SVD[2].shape)"
   ]
  },
  {
   "cell_type": "markdown",
   "metadata": {},
   "source": [
    "**Task 3:** verify the following:\n",
    "<ul>\n",
    "    <li> all the elements of the diagonal matrix are non-negative (both when decomposing the adjacency or the Laplacian matrix)\n",
    "    </li>\n",
    "    <li>\n",
    "        for the Laplacian matrix: the columns of SVD[0] are eigenvectors of the Laplacian with the corresponding eigenvalues from SVD[1]\n",
    "    </li>\n",
    "    </ul>\n"
   ]
  },
  {
   "cell_type": "code",
   "execution_count": 12,
   "metadata": {},
   "outputs": [
    {
     "name": "stdout",
     "output_type": "stream",
     "text": [
      "True\n"
     ]
    }
   ],
   "source": [
    "a = True\n",
    "for e in SVD[1]:\n",
    "    a &= e != 0\n",
    "print(a)\n"
   ]
  },
  {
   "cell_type": "code",
   "execution_count": 15,
   "metadata": {},
   "outputs": [
    {
     "name": "stdout",
     "output_type": "stream",
     "text": [
      "True\n"
     ]
    }
   ],
   "source": [
    "LSVD = np.linalg.svd(L)\n",
    "a = True\n",
    "for e in LSVD[1]:\n",
    "    a &= e != 0\n",
    "print(a)"
   ]
  },
  {
   "cell_type": "code",
   "execution_count": null,
   "metadata": {},
   "outputs": [],
   "source": [
    "\n",
    "for i in range(len(LSVD[1])):\n",
    "    z = LSVD[0][::, i]\n",
    "    lam = LSVD[1][i]\n",
    "    x = L *z\n",
    "    y = lam * z\n",
    "    print(np.squeeze(np.asarray(x)))\n",
    "    print(np.squeeze(np.asarray(y)))\n",
    "    print((x == y).all())\n"
   ]
  },
  {
   "cell_type": "markdown",
   "metadata": {},
   "source": [
    "**Task 4:** Plot the networks using different columns from SVD[0] to define x and y coordinates. For example, to use the first two columns, one can use the following (in order to keep us busy, Python and Networkx have decided that the draw function requires for the pos parameter an array; SVD[0][0:2] is a matrix, and won't do -- even if the shape is the same)"
   ]
  },
  {
   "cell_type": "code",
   "execution_count": 99,
   "metadata": {},
   "outputs": [
    {
     "name": "stdout",
     "output_type": "stream",
     "text": [
      "[[ 1.87519478e-03  1.80437944e-15]\n",
      " [-4.15285795e-02  3.01705099e-15]\n",
      " [ 7.66131931e-02 -4.99998733e-15]\n",
      " [ 6.46588970e-02 -1.50549480e-15]\n",
      " [-3.80043630e-04  5.00000000e-01]\n",
      " [-7.00547209e-04  5.00000000e-01]\n",
      " [-7.00547209e-04 -5.00000000e-01]\n",
      " [-4.86022526e-02 -1.37287631e-15]\n",
      " [-3.97871523e-02 -2.16186064e-15]\n",
      " [-7.97662476e-02 -2.33525922e-15]\n",
      " [-3.80043630e-04 -5.00000000e-01]\n",
      " [-8.96869234e-04  1.50650586e-15]\n",
      " [-3.18219635e-02  2.83802113e-16]\n",
      " [-9.17258983e-02 -5.22774339e-16]\n",
      " [ 3.13453536e-02  2.26010882e-16]\n",
      " [ 3.13453536e-02  8.72330038e-17]\n",
      " [ 6.70116240e-04 -2.45015756e-15]\n",
      " [ 1.89654436e-02  3.07335254e-15]\n",
      " [ 3.13453536e-02  1.14988579e-16]\n",
      " [-2.41582022e-02  3.98243511e-15]\n",
      " [ 3.13453536e-02  1.14199351e-16]\n",
      " [ 1.89654436e-02  3.08947612e-15]\n",
      " [ 3.13453536e-02  1.97466078e-16]\n",
      " [-5.09009551e-01 -4.70204207e-16]\n",
      " [-4.03813857e-01 -3.14937902e-16]\n",
      " [ 3.89925404e-01  1.88849182e-15]\n",
      " [-2.26324992e-01  1.71357282e-15]\n",
      " [ 3.56819455e-01 -1.65754765e-15]\n",
      " [-1.26426545e-01 -1.42185130e-15]\n",
      " [ 3.83041580e-01  2.19290379e-15]\n",
      " [ 7.02370884e-02  1.89989591e-16]\n",
      " [ 9.75584218e-02  2.17543828e-15]\n",
      " [-1.55701493e-01 -1.43099526e-15]\n",
      " [ 9.01639084e-02  1.44134064e-15]]\n"
     ]
    },
    {
     "data": {
      "image/png": "[encoded data removed]",
      "text/plain": [
       "<Figure size 432x288 with 1 Axes>"
      ]
     },
     "metadata": {},
     "output_type": "display_data"
    }
   ],
   "source": [
    "a = np.asarray(SVD[0][:,8:10])\n",
    "print(a)\n",
    "nx.draw(zachary,pos=a)\n"
   ]
  },
  {
   "cell_type": "code",
   "execution_count": 133,
   "metadata": {},
   "outputs": [
    {
     "name": "stdout",
     "output_type": "stream",
     "text": [
      "8 31\n"
     ]
    },
    {
     "data": {
      "image/png": "[encoded data removed]",
      "text/plain": [
       "<Figure size 432x288 with 1 Axes>"
      ]
     },
     "metadata": {},
     "output_type": "display_data"
    }
   ],
   "source": [
    "import random\n",
    "x = random.randint(0,len(SVD[0])-1)\n",
    "a = np.squeeze(np.asarray(SVD[0][:,x]))\n",
    "y = random.randint(0,len(SVD[0])-1)\n",
    "b = np.squeeze(np.asarray(SVD[0][:,y]))\n",
    "c = np.asarray(list(zip(a,b)))\n",
    "print(x,y)\n",
    "nx.draw(zachary,pos=c)"
   ]
  },
  {
   "cell_type": "markdown",
   "metadata": {},
   "source": [
    "Try to interpret the \"meaning\" of the node coefficients in the different columns of SVD[0]. "
   ]
  },
  {
   "cell_type": "markdown",
   "metadata": {},
   "source": [
    "**Task 5:** Construct some synthetic graphs with an inherent community structure, and investigate whether SVD for the adjacency and/or the Laplacian matrix will \"discover\" that structure."
   ]
  },
  {
   "cell_type": "code",
   "execution_count": null,
   "metadata": {},
   "outputs": [],
   "source": []
  },
  {
   "cell_type": "markdown",
   "metadata": {},
   "source": [
    "**Task 6:** Try some bigger graphs. What's the largest size you can handle, so that SVD is computed within a few minutes at most?"
   ]
  }
 ],
 "metadata": {
  "kernelspec": {
   "display_name": "Python 3 (ipykernel)",
   "language": "python",
   "name": "python3"
  },
  "language_info": {
   "codemirror_mode": {
    "name": "ipython",
    "version": 3
   },
   "file_extension": ".py",
   "mimetype": "text/x-python",
   "name": "python",
   "nbconvert_exporter": "python",
   "pygments_lexer": "ipython3",
   "version": "3.9.7"
  }
 },
 "nbformat": 4,
 "nbformat_minor": 4
}